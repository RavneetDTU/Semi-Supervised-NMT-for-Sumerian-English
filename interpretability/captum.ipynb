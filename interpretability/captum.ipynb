{
 "cells": [
  {
   "cell_type": "code",
   "execution_count": 1,
   "metadata": {},
   "outputs": [],
   "source": [
    "import os\n",
    "\n",
    "import sys\n",
    "\n",
    "import numpy as np\n",
    "import pandas as pd\n",
    "import seaborn as sns\n",
    "import matplotlib.pyplot as plt\n",
    "\n",
    "import torch\n",
    "import torch.nn as nn\n",
    "\n",
    "# from transformers import BertTokenizer, BertForQuestionAnswering, BertConfig\n",
    "\n",
    "from captum.attr import visualization as viz\n",
    "from captum.attr import IntegratedGradients, LayerConductance, LayerIntegratedGradients, Saliency\n",
    "from captum.attr import configure_interpretable_embedding_layer, remove_interpretable_embedding_layer"
   ]
  },
  {
   "cell_type": "code",
   "execution_count": 2,
   "metadata": {},
   "outputs": [],
   "source": [
    "import warnings\n",
    "warnings.filterwarnings(\"ignore\")"
   ]
  },
  {
   "cell_type": "code",
   "execution_count": 3,
   "metadata": {},
   "outputs": [],
   "source": [
    "device = torch.device(\"cuda:0\" if torch.cuda.is_available() else \"cpu\")"
   ]
  },
  {
   "cell_type": "code",
   "execution_count": 4,
   "metadata": {},
   "outputs": [
    {
     "data": {
      "text/plain": [
       "device(type='cuda', index=0)"
      ]
     },
     "execution_count": 4,
     "metadata": {},
     "output_type": "execute_result"
    }
   ],
   "source": [
    "device"
   ]
  },
  {
   "cell_type": "code",
   "execution_count": 5,
   "metadata": {},
   "outputs": [
    {
     "name": "stdout",
     "output_type": "stream",
     "text": [
      "/home/rlabs/Unsupervised-NMT-for-Sumerian-English_1\n"
     ]
    }
   ],
   "source": [
    "%cd .."
   ]
  },
  {
   "cell_type": "code",
   "execution_count": 6,
   "metadata": {},
   "outputs": [
    {
     "name": "stderr",
     "output_type": "stream",
     "text": [
      "FAISS library was not found.\n",
      "FAISS not available. Switching to standard nearest neighbors search implementation.\n"
     ]
    }
   ],
   "source": [
    "from translation.XLM.XLM.src.utils import AttrDict\n",
    "from translation.XLM.XLM.src.utils import bool_flag, initialize_exp\n",
    "from translation.XLM.XLM.src.data.dictionary import Dictionary\n",
    "from translation.XLM.XLM.src.model.transformerIn import TransformerModel\n",
    "import pandas as pd"
   ]
  },
  {
   "cell_type": "code",
   "execution_count": 7,
   "metadata": {},
   "outputs": [],
   "source": [
    "# replace <PATH-TO-SAVED-MODEL> with the real path of the saved model\n",
    "model_path = 'translation/XLM/experiments/SSupervised_AugmentedData_10x/a6znr01btr/checkpoint.pth'\n",
    "params_path = 'translation/XLM/experiments/SSupervised_AugmentedData_10x/a6znr01btr/params.pkl'\n",
    "\n",
    "# load params\n",
    "params = pd.read_pickle(params_path)\n",
    "\n",
    "# load model\n",
    "reloaded = torch.load(model_path)\n",
    "model_params = AttrDict(reloaded['params'])\n",
    "\n",
    "# build dictionary / build encoder / build decoder / reload weights\n",
    "dico = Dictionary(reloaded['dico_id2word'], reloaded['dico_word2id'], reloaded['dico_counts'])\n",
    "encoder = TransformerModel(model_params, dico, is_encoder=True, with_output=True).cuda().eval()\n",
    "decoder = TransformerModel(model_params, dico, is_encoder=False, with_output=True).cuda().eval()\n",
    "\n",
    "encoder.zero_grad()\n",
    "decoder.zero_grad()\n",
    "\n",
    "encoder.load_state_dict(reloaded['encoder'])\n",
    "decoder.load_state_dict(reloaded['decoder'])\n",
    "src_id = model_params.lang2id['sum']\n",
    "tgt_id = model_params.lang2id['en']"
   ]
  },
  {
   "cell_type": "code",
   "execution_count": 8,
   "metadata": {},
   "outputs": [
    {
     "data": {
      "text/plain": [
       "(120, 'you')"
      ]
     },
     "execution_count": 8,
     "metadata": {},
     "output_type": "execute_result"
    }
   ],
   "source": [
    "dico.index('you'), dico[120]"
   ]
  },
  {
   "cell_type": "code",
   "execution_count": 9,
   "metadata": {},
   "outputs": [],
   "source": [
    "for name in ['n_words', 'bos_index', 'eos_index', 'pad_index', 'unk_index', 'mask_index']:\n",
    "    setattr(params, name, getattr(model_params, name))"
   ]
  },
  {
   "cell_type": "code",
   "execution_count": 10,
   "metadata": {},
   "outputs": [],
   "source": [
    "def tokeniser(src_sent):\n",
    "    for i in range(0, len(src_sent), params.batch_size):\n",
    "        # prepare batch\n",
    "        word_ids = [torch.LongTensor([dico.index(w) for w in s.strip().split()])\n",
    "                    for s in src_sent[i:i + params.batch_size]]\n",
    "        lengths = torch.LongTensor([len(s) + 2 for s in word_ids])\n",
    "        batch = torch.LongTensor(lengths.max().item(), lengths.size(0)).fill_(params.pad_index)\n",
    "        batch[0] = params.eos_index\n",
    "        for j, s in enumerate(word_ids):\n",
    "            if lengths[j] > 2:  # if sentence not empty\n",
    "                batch[1:lengths[j] - 1, j].copy_(s)\n",
    "            batch[lengths[j] - 1, j] = params.eos_index\n",
    "\n",
    "    return batch.reshape(1,-1)"
   ]
  },
  {
   "cell_type": "code",
   "execution_count": 11,
   "metadata": {},
   "outputs": [],
   "source": [
    "def predict(batch, ground_truth_tokens, langs2=None, lengths2=None, langs=None, positions=None, find_emb=True, all_embs=False, ret_out=True):\n",
    "    # encode source batch and translate it\n",
    "    bsz = batch.shape[0]\n",
    "    ground_truth_tokens = ground_truth_tokens.reshape(-1, bsz)\n",
    "    \n",
    "    if(langs == None):\n",
    "        batch = batch.reshape(-1, bsz)\n",
    "        langs = batch.clone().fill_(src_id)\n",
    "    else:\n",
    "        if not all_embs:\n",
    "            langs = langs.reshape(-1, bsz)\n",
    "    if not find_emb:\n",
    "        lengths = [batch.shape[1]]*bsz\n",
    "    else:\n",
    "        lengths = [batch.shape[0]]*bsz\n",
    "        \n",
    "    lengths = torch.tensor(lengths)   \n",
    "    \n",
    "    if(langs2 == None or lengths2 == None):\n",
    "        langs2 = ground_truth_tokens.clone().fill_(tgt_id)\n",
    "        lengths2 = torch.tensor([ground_truth_tokens.shape[0]]*bsz)\n",
    "    else:\n",
    "        if not all_embs:\n",
    "            langs2 = langs2.reshape(-1, bsz)\n",
    "        else:\n",
    "            langs2 = langs2.reshape(bsz,-1)\n",
    "        \n",
    "    encoded = encoder('fwd', x=batch.cuda(), lengths=lengths.cuda(), find_emb=find_emb, all_embs=all_embs, langs=langs.cuda(), positions=positions, causal=False)\n",
    "    encoded = encoded.transpose(0, 1)\n",
    "    last = decoder('fwd', x=ground_truth_tokens.cuda(), lengths=lengths2.cuda(), langs=langs2.cuda(), causal=True, src_enc=encoded, src_len=lengths.cuda(), find_emb=True, all_embs=all_embs)\n",
    "    \n",
    "    pred_mask = ground_truth_tokens.clone().fill_(1).byte()\n",
    "    \n",
    "    y = ground_truth_tokens.masked_select(pred_mask)\n",
    "    \n",
    "    scores = decoder.predict(last, pred_mask, y.cuda(), get_scores=True)[0]\n",
    "    \n",
    "    return scores.reshape(-1,bsz,params.n_words)"
   ]
  },
  {
   "cell_type": "code",
   "execution_count": 12,
   "metadata": {},
   "outputs": [],
   "source": [
    "def nmt_forward_func(inputs, ground_truth_tokens, langs2=None, lengths2=None, langs=None, position=0, find_emb=True, all_embs=False, positions=None):\n",
    "    \n",
    "    scores = predict(inputs,\n",
    "                     ground_truth_tokens,\n",
    "                     langs2, \n",
    "                     lengths2,\n",
    "                     langs,\n",
    "                     positions,\n",
    "                     find_emb,\n",
    "                     ret_out=False,\n",
    "                     all_embs=all_embs\n",
    "                    )\n",
    "    \n",
    "    return scores[position]"
   ]
  },
  {
   "cell_type": "code",
   "execution_count": 13,
   "metadata": {},
   "outputs": [],
   "source": [
    "def construct_input_ref_pair(src_sent):\n",
    "    text_ids = list(tokeniser([input_text])[0][1:-1].detach().cpu().numpy())\n",
    "    \n",
    "    input_ids = [params.eos_index] + text_ids + [params.eos_index]\n",
    "    \n",
    "    ref_ids = [params.eos_index] + [params.pad_index]*len(text_ids) + [params.eos_index]\n",
    "    \n",
    "    return torch.tensor([input_ids], device=device), text_ids, torch.tensor([ref_ids], device=device), len(text_ids)\n",
    "\n",
    "def construct_input_ref_lang_type_pair(input_ids):\n",
    "    seq_len = input_ids.size(1)\n",
    "    token_type_ids = torch.tensor([[src_id]*seq_len], device=device)\n",
    "    ref_token_type_ids = torch.zeros_like(token_type_ids, device=device)# * -1\n",
    "    return token_type_ids, ref_token_type_ids\n",
    "\n",
    "def construct_input_ref_pos_id_pair(input_ids):\n",
    "    seq_length = input_ids.size(1)\n",
    "    position_ids = torch.arange(seq_length, dtype=torch.long, device=device)\n",
    "    # we could potentially also use random permutation with `torch.randperm(seq_length, device=device)`\n",
    "    ref_position_ids = torch.zeros(seq_length, dtype=torch.long, device=device)\n",
    "\n",
    "    position_ids = position_ids.expand_as(input_ids)\n",
    "    ref_position_ids = ref_position_ids.expand_as(input_ids)\n",
    "    return position_ids, ref_position_ids\n",
    "    \n",
    "def construct_attention_mask(input_ids):\n",
    "    return torch.ones_like(input_ids)"
   ]
  },
  {
   "cell_type": "code",
   "execution_count": 14,
   "metadata": {},
   "outputs": [],
   "source": [
    "# position_embeddings\n",
    "# lang_embeddings\n",
    "# embeddings"
   ]
  },
  {
   "cell_type": "code",
   "execution_count": 15,
   "metadata": {},
   "outputs": [],
   "source": [
    "input_text = 'kiszib3 gu-du-du 1(gesz2) 1(u) la2 1(disz) geme2 u4 1(disz)-sze3 kab2-ku5 u2-du-...'\n",
    "input_ids, text_ids, ref_input_ids, sep_id = construct_input_ref_pair(input_text)\n",
    "lang_type_ids, ref_lang_type_ids = construct_input_ref_lang_type_pair(input_ids)\n",
    "position_ids, ref_position_ids = construct_input_ref_pos_id_pair(input_ids)\n",
    "attention_mask = construct_attention_mask(input_ids)\n",
    "indices = input_ids[0].detach().tolist()"
   ]
  },
  {
   "cell_type": "code",
   "execution_count": 16,
   "metadata": {},
   "outputs": [],
   "source": [
    "ground_truth = 'under seal of gududu 69 workdays at the reservoir of udu 138 workdays at the reservoir of the erected wall and the'\n",
    "\n",
    "ground_truth_tokens = tokeniser([ground_truth])"
   ]
  },
  {
   "cell_type": "code",
   "execution_count": 17,
   "metadata": {},
   "outputs": [
    {
     "data": {
      "text/plain": [
       "tensor([[   1,   53, 1271,    3,    3,   88,    3,  136,   38,    3,  919,    3,\n",
       "            1]], device='cuda:0')"
      ]
     },
     "execution_count": 17,
     "metadata": {},
     "output_type": "execute_result"
    }
   ],
   "source": [
    "input_ids"
   ]
  },
  {
   "cell_type": "code",
   "execution_count": 18,
   "metadata": {},
   "outputs": [],
   "source": [
    "def to_out(decoded):\n",
    "    decoded=decoded.reshape(-1,1)\n",
    "    for j in range(decoded.size(1)):\n",
    "        # remove delimiters\n",
    "        sent = decoded[:, j]\n",
    "        delimiters = (sent == params.eos_index).nonzero().view(-1)\n",
    "        assert len(delimiters) >= 1 and delimiters[0].item() == 0\n",
    "        sent = sent[1:] if len(delimiters) == 1 else sent[1:delimiters[1]]\n",
    "        \n",
    "        target = \" \".join([dico[sent[k].item()] for k in range(len(sent))])\n",
    "        \n",
    "    return target"
   ]
  },
  {
   "cell_type": "code",
   "execution_count": 19,
   "metadata": {
    "scrolled": true
   },
   "outputs": [
    {
     "name": "stdout",
     "output_type": "stream",
     "text": [
      "Source Sentence:  kiszib3 gu-du-du 1(gesz2) 1(u) la2 1(disz) geme2 u4 1(disz)-sze3 kab2-ku5 u2-du-...\n"
     ]
    }
   ],
   "source": [
    "# target, scores = predict(input_ids)\n",
    "scores = predict(input_ids, ground_truth_tokens)\n",
    "\n",
    "print('Source Sentence: ', input_text)"
   ]
  },
  {
   "cell_type": "code",
   "execution_count": 20,
   "metadata": {},
   "outputs": [
    {
     "data": {
      "text/plain": [
       "tensor([[   1,   53, 1271,    3,    3,   88,    3,  136,   38,    3,  919,    3,\n",
       "            1],\n",
       "        [   1,   53, 1271,    3,    3,   88,    3,  136,   38,    3,  919,    3,\n",
       "            1]], device='cuda:0')"
      ]
     },
     "execution_count": 20,
     "metadata": {},
     "output_type": "execute_result"
    }
   ],
   "source": [
    "torch.tensor(input_ids.cpu().numpy().tolist()*2).cuda()"
   ]
  },
  {
   "cell_type": "code",
   "execution_count": 21,
   "metadata": {},
   "outputs": [
    {
     "data": {
      "text/plain": [
       "tensor([[    1,   202,   237,    28,     3, 12728,   395,   108,    24,  2355,\n",
       "            28,    45, 14904,   395,   108,    24,  2355,    28,    24,   706,\n",
       "           787,    54,    24,     1],\n",
       "        [    1,   202,   237,    28,     3, 12728,   395,   108,    24,  2355,\n",
       "            28,    45, 14904,   395,   108,    24,  2355,    28,    24,   706,\n",
       "           787,    54,    24,     1]], device='cuda:0')"
      ]
     },
     "execution_count": 21,
     "metadata": {},
     "output_type": "execute_result"
    }
   ],
   "source": [
    "torch.tensor(ground_truth_tokens.cpu().numpy().tolist()*2).cuda()"
   ]
  },
  {
   "cell_type": "code",
   "execution_count": 22,
   "metadata": {},
   "outputs": [
    {
     "name": "stdout",
     "output_type": "stream",
     "text": [
      "Source Sentence:  kiszib3 gu-du-du 1(gesz2) 1(u) la2 1(disz) geme2 u4 1(disz)-sze3 kab2-ku5 u2-du-...\n"
     ]
    }
   ],
   "source": [
    "# target, scores = predict(input_ids)\n",
    "scores = predict(torch.tensor(input_ids.cpu().numpy().tolist()*2).cuda(), \n",
    "                 torch.tensor(ground_truth_tokens.cpu().numpy().tolist()*2).cuda())\n",
    "\n",
    "print('Source Sentence: ', input_text)"
   ]
  },
  {
   "cell_type": "code",
   "execution_count": 23,
   "metadata": {},
   "outputs": [
    {
     "data": {
      "text/plain": [
       "torch.return_types.max(\n",
       "values=tensor([[ -3.8646,   8.5738,  -8.7533,  ...,  -0.8373,  -3.4529,  -3.3968],\n",
       "        [ -4.3638,   9.8817,  -4.8871,  ...,   1.6781,  -2.5006,  -0.0927],\n",
       "        [ -7.3115,  15.9727, -12.3266,  ...,  -1.1907,  -7.8428,  -4.5278],\n",
       "        ...,\n",
       "        [ -6.9247,  24.5904, -10.0274,  ...,   1.6300,  -5.6633,  -3.0558],\n",
       "        [ -6.6661,  17.9795, -11.9772,  ...,   0.7787,  -4.4617,  -5.9373],\n",
       "        [ -7.5620,  20.0455, -10.2513,  ...,   1.4772,  -2.9552,  -3.1991]],\n",
       "       device='cuda:0', grad_fn=<MaxBackward0>),\n",
       "indices=tensor([[1, 1, 1,  ..., 1, 1, 1],\n",
       "        [1, 0, 1,  ..., 1, 1, 1],\n",
       "        [0, 1, 0,  ..., 1, 0, 1],\n",
       "        ...,\n",
       "        [1, 1, 0,  ..., 0, 0, 0],\n",
       "        [1, 0, 1,  ..., 0, 0, 1],\n",
       "        [1, 1, 1,  ..., 0, 0, 1]], device='cuda:0'))"
      ]
     },
     "execution_count": 23,
     "metadata": {},
     "output_type": "execute_result"
    }
   ],
   "source": [
    "scores.max(1)"
   ]
  },
  {
   "cell_type": "markdown",
   "metadata": {},
   "source": [
    "## Using Interpretable Embedding Layer"
   ]
  },
  {
   "cell_type": "code",
   "execution_count": 24,
   "metadata": {},
   "outputs": [],
   "source": [
    "def construct_sub_embedding(input_ids, ref_input_ids,\n",
    "                                   token_lang_ids, ref_token_lang_ids,\n",
    "                                   position_ids, ref_position_ids):\n",
    "    input_embeddings = interpretable_embedding1.indices_to_embeddings(input_ids)\n",
    "    ref_input_embeddings = interpretable_embedding1.indices_to_embeddings(ref_input_ids)\n",
    "\n",
    "    input_embeddings_token_lang = interpretable_embedding2.indices_to_embeddings(token_lang_ids)\n",
    "    ref_input_embeddings_token_lang = interpretable_embedding2.indices_to_embeddings(ref_token_lang_ids)\n",
    "\n",
    "    input_embeddings_position_ids = interpretable_embedding3.indices_to_embeddings(position_ids)\n",
    "    ref_input_embeddings_position_ids = interpretable_embedding3.indices_to_embeddings(ref_position_ids)\n",
    "    \n",
    "    return (input_embeddings, ref_input_embeddings), \\\n",
    "           (input_embeddings_token_lang, ref_input_embeddings_token_lang), \\\n",
    "           (input_embeddings_position_ids, ref_input_embeddings_position_ids)\n",
    "    \n",
    "def construct_whole_embeddings(input_ids, ref_input_ids, \\\n",
    "                                    token_lang_ids=None, ref_token_lang_ids=None, \\\n",
    "                                    position_ids=None, ref_position_ids=None):\n",
    "    input_embeddings = interpretable_embedding.indices_to_embeddings(input_ids, token_lang_ids=token_lang_ids, position_ids=position_ids)\n",
    "    ref_input_embeddings = interpretable_embedding.indices_to_embeddings(ref_input_ids, token_lang_ids=token_lang_ids, position_ids=position_ids)\n",
    "    \n",
    "    return input_embeddings, ref_input_embeddings"
   ]
  },
  {
   "cell_type": "code",
   "execution_count": 25,
   "metadata": {},
   "outputs": [],
   "source": [
    "# remove_interpretable_embedding_layer(encoder, interpretable_embedding1)\n",
    "# remove_interpretable_embedding_layer(encoder, interpretable_embedding_lang)\n",
    "# remove_interpretable_embedding_layer(encoder, interpretable_embedding_pos)"
   ]
  },
  {
   "cell_type": "code",
   "execution_count": 26,
   "metadata": {
    "scrolled": true
   },
   "outputs": [],
   "source": [
    "interpretable_embedding1 = configure_interpretable_embedding_layer(encoder, 'embeddings')"
   ]
  },
  {
   "cell_type": "markdown",
   "metadata": {},
   "source": [
    "### All layers"
   ]
  },
  {
   "cell_type": "code",
   "execution_count": 27,
   "metadata": {},
   "outputs": [
    {
     "data": {
      "text/plain": [
       "tensor([[   1,   53, 1271,    3,    3,   88,    3,  136,   38,    3,  919,    3,\n",
       "            1]], device='cuda:0')"
      ]
     },
     "execution_count": 27,
     "metadata": {},
     "output_type": "execute_result"
    }
   ],
   "source": [
    "input_ids"
   ]
  },
  {
   "cell_type": "code",
   "execution_count": 28,
   "metadata": {},
   "outputs": [],
   "source": [
    "def interpret_layers(src, trg):\n",
    "    \n",
    "    # get a list of src_tokens from the src sentence\n",
    "    input_ids, text_ids, ref_input_ids, sep_id = construct_input_ref_pair(input_text)\n",
    "    lang_type_ids, ref_lang_type_ids = construct_input_ref_lang_type_pair(input_ids)\n",
    "    position_ids, ref_position_ids = construct_input_ref_pos_id_pair(input_ids)\n",
    "    \n",
    "    langs = input_ids.reshape(-1,1).clone().fill_(src_id)\n",
    "    lengths = torch.tensor([input_ids.shape[1]]*input_ids.shape[0])\n",
    "    \n",
    "#     print(langs)\n",
    "    \n",
    "    # get a list of trg_tokens from the trg sentence\n",
    "    ground_truth_tokens = tokeniser([trg])\n",
    "    \n",
    "    langs2 = ground_truth_tokens.reshape(-1,1).clone().fill_(tgt_id)\n",
    "    lengths2 = torch.tensor([ground_truth_tokens.shape[1]]*ground_truth_tokens.shape[0])\n",
    "    \n",
    "    # pre-computing word embeddings\n",
    "    input_embed = interpretable_embedding1.indices_to_embeddings(input_ids)\n",
    "    ref_input_embed = interpretable_embedding1.indices_to_embeddings(ref_input_ids)\n",
    "    \n",
    "    src_embedding = input_embed # + position_ids_embed.expand_as(input_embed) + token_lang_ids_embed\n",
    "    \n",
    "#     get outputs tensor [seq_length, batch_size, trg_vocab_size]\n",
    "    outputs = predict(src_embedding, ground_truth_tokens, langs= langs, find_emb=False, ret_out=False)\n",
    "    \n",
    "    output_tokens = []\n",
    "    attribution_igs = [] # size: [len(output_tokens), len(src_tokens)]\n",
    "    for i in range(encoder.n_layers):\n",
    "        output_token = []\n",
    "        attribution_ig = []\n",
    "        lc = LayerConductance(nmt_forward_func, encoder.attentions[i])\n",
    "        for idx, output in enumerate(outputs):\n",
    "            max_idx = output.max(1).indices.item()\n",
    "            output_t = dico[max_idx]\n",
    "            output_token.append(output_t)\n",
    "            langs=langs.reshape(1,-1)\n",
    "            langs2=langs2.reshape(1,-1)\n",
    "            attribution, delta =  lc.attribute(src_embedding, baselines=0, additional_forward_args=(ground_truth_tokens, langs2, lengths2, langs, idx, False), target=max_idx, n_steps=10, return_convergence_delta=True)\n",
    "            attribution_ig.append(attribution)\n",
    "            \n",
    "        output_tokens.append(output_token)\n",
    "        attribution_igs.append(attribution_ig)\n",
    "    \n",
    "    return attribution_igs, output_tokens"
   ]
  },
  {
   "cell_type": "code",
   "execution_count": 29,
   "metadata": {
    "scrolled": true
   },
   "outputs": [],
   "source": [
    "attribution_igs, output_tokens = interpret_layers(input_text, ground_truth)"
   ]
  },
  {
   "cell_type": "code",
   "execution_count": 30,
   "metadata": {},
   "outputs": [],
   "source": [
    "import seaborn as sns"
   ]
  },
  {
   "cell_type": "code",
   "execution_count": 31,
   "metadata": {},
   "outputs": [],
   "source": [
    "def summarize_attributions(attributions):\n",
    "    attributions = attributions.sum(dim=-1).squeeze(0)\n",
    "    attributions = attributions / torch.norm(attributions)\n",
    "    return attributions"
   ]
  },
  {
   "cell_type": "code",
   "execution_count": 32,
   "metadata": {},
   "outputs": [],
   "source": [
    "def draw_heatmap_for_inp(inp):\n",
    "    attrs_first=[]\n",
    "    outs_first=[]\n",
    "\n",
    "    for i in range(4):\n",
    "        attrs_first.append(summarize_attributions(attribution_igs[i][inp]).detach().cpu().numpy().tolist())\n",
    "        outs_first.append(output_tokens[i][inp])\n",
    "    fig, ax = plt.subplots(figsize=(15,4))\n",
    "    # xticklabels=list(tokeniser([ground_truth]).numpy()[0])\n",
    "    xticklabels=['<sos>']+input_text.split()+['<eos>']\n",
    "    yticklabels=list(range(1,5))\n",
    "    ax = sns.heatmap(np.array(attrs_first), xticklabels=xticklabels, yticklabels=yticklabels, linewidth=0.2)\n",
    "    plt.xlabel('Tokens')\n",
    "    plt.ylabel('Layers')\n",
    "    plt.title(output_tokens[0][inp])\n",
    "    plt.show()"
   ]
  },
  {
   "cell_type": "code",
   "execution_count": 33,
   "metadata": {},
   "outputs": [
    {
     "data": {
      "image/png": "[encoded data removed]",
      "text/plain": [
       "<Figure size 1080x288 with 2 Axes>"
      ]
     },
     "metadata": {
      "needs_background": "light"
     },
     "output_type": "display_data"
    }
   ],
   "source": [
    "draw_heatmap_for_inp(0)"
   ]
  },
  {
   "cell_type": "code",
   "execution_count": 34,
   "metadata": {},
   "outputs": [
    {
     "data": {
      "image/png": "[encoded data removed]",
      "text/plain": [
       "<Figure size 1080x288 with 2 Axes>"
      ]
     },
     "metadata": {
      "needs_background": "light"
     },
     "output_type": "display_data"
    }
   ],
   "source": [
    "draw_heatmap_for_inp(1)"
   ]
  },
  {
   "cell_type": "code",
   "execution_count": 35,
   "metadata": {},
   "outputs": [
    {
     "data": {
      "image/png": "[encoded data removed]",
      "text/plain": [
       "<Figure size 1080x288 with 2 Axes>"
      ]
     },
     "metadata": {
      "needs_background": "light"
     },
     "output_type": "display_data"
    }
   ],
   "source": [
    "draw_heatmap_for_inp(2)"
   ]
  },
  {
   "cell_type": "code",
   "execution_count": 36,
   "metadata": {},
   "outputs": [
    {
     "data": {
      "image/png": "[encoded data removed]",
      "text/plain": [
       "<Figure size 1080x288 with 2 Axes>"
      ]
     },
     "metadata": {
      "needs_background": "light"
     },
     "output_type": "display_data"
    }
   ],
   "source": [
    "draw_heatmap_for_inp(-1)"
   ]
  },
  {
   "cell_type": "code",
   "execution_count": 37,
   "metadata": {},
   "outputs": [
    {
     "data": {
      "image/png": "[encoded data removed]",
      "text/plain": [
       "<Figure size 1080x288 with 2 Axes>"
      ]
     },
     "metadata": {
      "needs_background": "light"
     },
     "output_type": "display_data"
    }
   ],
   "source": [
    "draw_heatmap_for_inp(3)"
   ]
  },
  {
   "cell_type": "code",
   "execution_count": 38,
   "metadata": {},
   "outputs": [
    {
     "data": {
      "image/png": "[encoded data removed]",
      "text/plain": [
       "<Figure size 1080x288 with 2 Axes>"
      ]
     },
     "metadata": {
      "needs_background": "light"
     },
     "output_type": "display_data"
    }
   ],
   "source": [
    "draw_heatmap_for_inp(4)"
   ]
  },
  {
   "cell_type": "code",
   "execution_count": 39,
   "metadata": {},
   "outputs": [
    {
     "data": {
      "text/plain": [
       "'under seal of Gududu the workdays at the lower of Udu make workdays at the reservoir of the Ebabbar wall and the </s> </s>'"
      ]
     },
     "execution_count": 39,
     "metadata": {},
     "output_type": "execute_result"
    }
   ],
   "source": [
    "' '.join(output_tokens[0])"
   ]
  },
  {
   "cell_type": "code",
   "execution_count": 40,
   "metadata": {},
   "outputs": [
    {
     "data": {
      "text/plain": [
       "'under seal of gududu 69 workdays at the reservoir of udu 138 workdays at the reservoir of the erected wall and the'"
      ]
     },
     "execution_count": 40,
     "metadata": {},
     "output_type": "execute_result"
    }
   ],
   "source": [
    "ground_truth"
   ]
  },
  {
   "cell_type": "markdown",
   "metadata": {},
   "source": [
    "### Without Captum"
   ]
  },
  {
   "cell_type": "code",
   "execution_count": 41,
   "metadata": {},
   "outputs": [],
   "source": [
    "def without_capt(src, trg):\n",
    "    \n",
    "    # get a list of src_tokens from the src sentence\n",
    "    input_ids, text_ids, ref_input_ids, sep_id = construct_input_ref_pair(input_text)\n",
    "    lang_type_ids, ref_lang_type_ids = construct_input_ref_lang_type_pair(input_ids)\n",
    "    position_ids, ref_position_ids = construct_input_ref_pos_id_pair(input_ids)\n",
    "    \n",
    "    langs = input_ids.reshape(-1,1).clone().fill_(src_id)\n",
    "    lengths = torch.tensor([input_ids.shape[1]]*input_ids.shape[0])\n",
    "    \n",
    "#     print(langs)\n",
    "    \n",
    "    # get a list of trg_tokens from the trg sentence\n",
    "    ground_truth_tokens = tokeniser([trg])\n",
    "    \n",
    "    langs2 = ground_truth_tokens.reshape(-1,1).clone().fill_(tgt_id)\n",
    "    lengths2 = torch.tensor([ground_truth_tokens.shape[1]]*ground_truth_tokens.shape[0])\n",
    "    \n",
    "    # pre-computing word embeddings\n",
    "    input_embed = interpretable_embedding1.indices_to_embeddings(input_ids)\n",
    "    ref_input_embed = interpretable_embedding1.indices_to_embeddings(ref_input_ids)\n",
    "    \n",
    "    src_embedding = input_embed # + position_ids_embed.expand_as(input_embed) + token_lang_ids_embed\n",
    "    \n",
    "#     get outputs tensor [seq_length, batch_size, trg_vocab_size]\n",
    "    outputs = predict(src_embedding, ground_truth_tokens, langs = langs, find_emb=False, ret_out=False)\n",
    "    \n",
    "#     # get output_tokens from outputs\n",
    "#     # compute attributions and approximation delta using integrated gradients\n",
    "    output_tokens = []\n",
    "    attribution_igs = [] # size: [len(output_tokens), len(src_tokens)]\n",
    "    all_grads=[]\n",
    "    for idx, output in enumerate(outputs):\n",
    "        max_idx = output.max(1).indices.item()\n",
    "        output_token = dico[max_idx]\n",
    "        output_tokens.append(output_token)\n",
    "        langs=langs.reshape(1,-1)\n",
    "        langs2=langs2.reshape(1,-1)\n",
    "        src_embedding.requires_grad_()\n",
    "        with torch.autograd.set_grad_enabled(True):\n",
    "            model_out = nmt_forward_func(src_embedding, ground_truth_tokens, langs2=langs2.reshape(-1,1), lengths2=lengths2, langs=langs, position=0, find_emb=False)\n",
    "            selected_out = model_out[:, max_idx]\n",
    "            grads = torch.autograd.grad(torch.unbind(selected_out), src_embedding, allow_unused=True)\n",
    "            all_grads.append(grads)\n",
    "#         attribution_ig, delta =  ig.attribute(src_embedding, baselines=0, additional_forward_args=(langs, idx, False), target=max_idx, n_steps=50, return_convergence_delta=True)\n",
    "#         attribution_igs.append(attribution_ig)\n",
    "    \n",
    "    return all_grads"
   ]
  },
  {
   "cell_type": "code",
   "execution_count": 42,
   "metadata": {},
   "outputs": [
    {
     "data": {
      "text/plain": [
       "[(tensor([[[ 0.4899, -0.1200, -0.1092,  ...,  0.1641, -0.3707,  0.1819],\n",
       "           [ 0.0322,  0.8910, -0.4829,  ..., -1.1552,  3.1574, -1.9373],\n",
       "           [-3.8607, -3.0901, -0.5485,  ..., -2.1546,  3.0605,  0.2661],\n",
       "           ...,\n",
       "           [ 0.1015,  0.4190, -0.6698,  ..., -0.6592, -0.4355,  0.2859],\n",
       "           [-1.0649,  0.0949,  0.1823,  ..., -0.7220,  0.0731,  1.7586],\n",
       "           [ 0.0808, -0.0361, -0.2435,  ...,  0.1317, -0.2272,  0.0608]]],\n",
       "         device='cuda:0'),),\n",
       " (tensor([[[ 0.4219,  0.0702,  0.1310,  ..., -0.2531, -0.2118,  0.0632],\n",
       "           [ 0.2762, -1.3935, -1.1940,  ..., -0.8718,  0.3373, -1.5629],\n",
       "           [-2.1735, -0.7686, -0.7970,  ..., -1.9628,  2.4942, -1.3011],\n",
       "           ...,\n",
       "           [ 0.3640,  0.0405,  0.1920,  ..., -0.0275, -0.0551,  0.0396],\n",
       "           [ 0.3140,  0.3351,  0.2064,  ...,  0.1350,  0.0601,  0.3873],\n",
       "           [ 0.2310,  0.0114, -0.0375,  ...,  0.1193, -0.0581, -0.0487]]],\n",
       "         device='cuda:0'),),\n",
       " (tensor([[[ 0.3110,  0.0069,  0.3820,  ..., -0.1051, -0.2161, -0.0276],\n",
       "           [-2.0836,  1.8923, -1.8008,  ..., -0.3706, -0.1497,  0.9509],\n",
       "           [-0.9285, -0.2635, -1.4668,  ..., -1.1332,  2.6364, -2.0949],\n",
       "           ...,\n",
       "           [ 0.2515,  0.4376, -0.2790,  ..., -0.3811, -0.2375, -0.0526],\n",
       "           [-0.6712,  0.3102,  0.4102,  ...,  0.3697, -0.1340,  0.4315],\n",
       "           [ 0.0415,  0.0165,  0.0155,  ...,  0.0198, -0.0872, -0.0709]]],\n",
       "         device='cuda:0'),),\n",
       " (tensor([[[ 0.0529,  0.0450,  0.3659,  ..., -0.1859,  0.1507,  0.4591],\n",
       "           [-1.7435,  0.8480,  1.6369,  ...,  2.7107, -4.5018,  0.6702],\n",
       "           [-0.6117, -2.9925,  2.4509,  ..., -2.3232, -1.2394, -2.8550],\n",
       "           ...,\n",
       "           [ 0.0533, -0.4434,  0.4762,  ..., -0.0425,  0.1863, -0.3084],\n",
       "           [ 0.7160,  0.1345, -0.0312,  ..., -0.1733,  0.3728, -0.4834],\n",
       "           [ 0.0220,  0.0758,  0.1855,  ..., -0.2631,  0.1268, -0.1175]]],\n",
       "         device='cuda:0'),),\n",
       " (tensor([[[-0.5446,  0.2612, -0.6289,  ..., -0.0043,  0.1430,  0.0574],\n",
       "           [-1.3431, -0.2235, -1.6227,  ..., -0.3347,  1.7205, -1.9224],\n",
       "           [-0.5770,  2.4191, -0.7886,  ...,  0.5418,  1.5362, -0.6777],\n",
       "           ...,\n",
       "           [ 0.0255, -0.6617, -0.5063,  ...,  0.1875,  0.0427, -0.1570],\n",
       "           [ 0.8190, -0.0526, -0.4963,  ...,  0.2124, -0.1852, -1.2593],\n",
       "           [ 0.2035, -0.0972, -0.1353,  ...,  0.3207,  0.0412, -0.0715]]],\n",
       "         device='cuda:0'),),\n",
       " (tensor([[[ 5.5559e-02, -2.1663e-01, -8.0873e-02,  ..., -2.1163e-01,\n",
       "             5.3663e-03, -1.6655e-03],\n",
       "           [-1.2711e-01, -1.8257e-01,  1.4624e+00,  ..., -9.8145e-01,\n",
       "             4.6629e-01,  1.1550e+00],\n",
       "           [-6.7246e-01,  1.8672e+00, -7.0183e-01,  ..., -2.2964e+00,\n",
       "            -1.9352e+00,  4.8138e-01],\n",
       "           ...,\n",
       "           [ 2.6046e-02,  1.4032e-01, -2.2886e-01,  ..., -1.5486e-02,\n",
       "            -6.4104e-02, -7.8354e-02],\n",
       "           [ 1.4116e-01,  2.9928e-01,  3.0801e-01,  ..., -5.9811e-01,\n",
       "            -2.0100e-01, -1.5154e-01],\n",
       "           [ 1.5546e-01, -4.2839e-02, -1.9076e-01,  ...,  1.8440e-01,\n",
       "            -1.4419e-01, -1.6405e-01]]], device='cuda:0'),),\n",
       " (tensor([[[ 0.5019, -0.0241,  0.0943,  ..., -0.2833, -0.2433, -0.1456],\n",
       "           [-0.8335,  4.9591,  1.6396,  ..., -1.0987, -0.6747,  0.4383],\n",
       "           [-0.6998,  1.6610, -4.3082,  ...,  2.9394, -2.5220, -2.2916],\n",
       "           ...,\n",
       "           [-0.3163,  1.2614, -0.3576,  ..., -0.3797, -0.1695, -0.0051],\n",
       "           [-1.2562, -0.0934, -0.2644,  ..., -0.4871, -0.2343, -0.1999],\n",
       "           [-0.1088,  0.0287, -0.3463,  ...,  0.3130, -0.2584, -0.1992]]],\n",
       "         device='cuda:0'),),\n",
       " (tensor([[[-0.5446,  0.2612, -0.6289,  ..., -0.0043,  0.1430,  0.0574],\n",
       "           [-1.3431, -0.2235, -1.6227,  ..., -0.3347,  1.7205, -1.9224],\n",
       "           [-0.5770,  2.4191, -0.7886,  ...,  0.5418,  1.5362, -0.6777],\n",
       "           ...,\n",
       "           [ 0.0255, -0.6617, -0.5063,  ...,  0.1875,  0.0427, -0.1570],\n",
       "           [ 0.8190, -0.0526, -0.4963,  ...,  0.2124, -0.1852, -1.2593],\n",
       "           [ 0.2035, -0.0972, -0.1353,  ...,  0.3207,  0.0412, -0.0715]]],\n",
       "         device='cuda:0'),),\n",
       " (tensor([[[-0.2217, -0.1287, -0.3786,  ...,  0.2409, -0.0772, -0.1011],\n",
       "           [ 0.1832,  1.2695, -1.0136,  ..., -0.9528, -2.0344, -0.0514],\n",
       "           [-3.5664, -1.2377, -0.0788,  ...,  1.8331, -3.7727, -4.7709],\n",
       "           ...,\n",
       "           [-0.1814, -0.2156,  0.1950,  ...,  0.3123,  0.1589, -0.1323],\n",
       "           [-1.3214,  0.0173,  0.3399,  ...,  0.1977,  0.1908, -0.4884],\n",
       "           [-0.2523, -0.0105, -0.1374,  ...,  0.1607, -0.1202,  0.0579]]],\n",
       "         device='cuda:0'),),\n",
       " (tensor([[[ 0.3110,  0.0069,  0.3820,  ..., -0.1051, -0.2161, -0.0276],\n",
       "           [-2.0836,  1.8923, -1.8008,  ..., -0.3706, -0.1497,  0.9509],\n",
       "           [-0.9285, -0.2635, -1.4668,  ..., -1.1332,  2.6364, -2.0949],\n",
       "           ...,\n",
       "           [ 0.2515,  0.4376, -0.2790,  ..., -0.3811, -0.2375, -0.0526],\n",
       "           [-0.6712,  0.3102,  0.4102,  ...,  0.3697, -0.1340,  0.4315],\n",
       "           [ 0.0415,  0.0165,  0.0155,  ...,  0.0198, -0.0872, -0.0709]]],\n",
       "         device='cuda:0'),),\n",
       " (tensor([[[-0.1945,  0.0498, -0.3451,  ..., -0.0783, -0.1437, -0.0677],\n",
       "           [-1.8875,  0.7116, -0.1497,  ...,  1.1491, -1.0464,  0.5267],\n",
       "           [-0.8647, -0.4346, -0.3743,  ..., -1.2051, -2.3162,  0.1841],\n",
       "           ...,\n",
       "           [ 0.3139, -0.5713,  0.2587,  ...,  0.3058, -0.0465, -0.2332],\n",
       "           [ 1.2077, -0.0543, -0.3245,  ..., -0.1368, -0.2827, -0.9613],\n",
       "           [ 0.0221, -0.1186, -0.1818,  ...,  0.1483, -0.1810, -0.1023]]],\n",
       "         device='cuda:0'),),\n",
       " (tensor([[[-0.1881, -0.1476, -0.3413,  ..., -0.0293,  0.0212,  0.1968],\n",
       "           [ 0.5089,  0.9348, -1.0100,  ...,  1.6922, -0.2257,  1.3733],\n",
       "           [ 1.9352, -1.3227, -3.7581,  ..., -0.3810, -0.6307, -3.6957],\n",
       "           ...,\n",
       "           [ 0.0855, -0.3891,  0.3887,  ...,  0.3942,  0.2935, -0.1653],\n",
       "           [ 0.4446, -0.5111,  0.0307,  ..., -0.1850,  0.1716,  0.3013],\n",
       "           [ 0.0288,  0.1344, -0.1543,  ...,  0.1691, -0.0101,  0.1017]]],\n",
       "         device='cuda:0'),),\n",
       " (tensor([[[ 5.5559e-02, -2.1663e-01, -8.0873e-02,  ..., -2.1163e-01,\n",
       "             5.3663e-03, -1.6655e-03],\n",
       "           [-1.2711e-01, -1.8257e-01,  1.4624e+00,  ..., -9.8145e-01,\n",
       "             4.6629e-01,  1.1550e+00],\n",
       "           [-6.7246e-01,  1.8672e+00, -7.0183e-01,  ..., -2.2964e+00,\n",
       "            -1.9352e+00,  4.8138e-01],\n",
       "           ...,\n",
       "           [ 2.6046e-02,  1.4032e-01, -2.2886e-01,  ..., -1.5486e-02,\n",
       "            -6.4104e-02, -7.8354e-02],\n",
       "           [ 1.4116e-01,  2.9928e-01,  3.0801e-01,  ..., -5.9811e-01,\n",
       "            -2.0100e-01, -1.5154e-01],\n",
       "           [ 1.5546e-01, -4.2839e-02, -1.9076e-01,  ...,  1.8440e-01,\n",
       "            -1.4419e-01, -1.6405e-01]]], device='cuda:0'),),\n",
       " (tensor([[[ 0.5019, -0.0241,  0.0943,  ..., -0.2833, -0.2433, -0.1456],\n",
       "           [-0.8335,  4.9591,  1.6396,  ..., -1.0987, -0.6747,  0.4383],\n",
       "           [-0.6998,  1.6610, -4.3082,  ...,  2.9394, -2.5220, -2.2916],\n",
       "           ...,\n",
       "           [-0.3163,  1.2614, -0.3576,  ..., -0.3797, -0.1695, -0.0051],\n",
       "           [-1.2562, -0.0934, -0.2644,  ..., -0.4871, -0.2343, -0.1999],\n",
       "           [-0.1088,  0.0287, -0.3463,  ...,  0.3130, -0.2584, -0.1992]]],\n",
       "         device='cuda:0'),),\n",
       " (tensor([[[-0.5446,  0.2612, -0.6289,  ..., -0.0043,  0.1430,  0.0574],\n",
       "           [-1.3431, -0.2235, -1.6227,  ..., -0.3347,  1.7205, -1.9224],\n",
       "           [-0.5770,  2.4191, -0.7886,  ...,  0.5418,  1.5362, -0.6777],\n",
       "           ...,\n",
       "           [ 0.0255, -0.6617, -0.5063,  ...,  0.1875,  0.0427, -0.1570],\n",
       "           [ 0.8190, -0.0526, -0.4963,  ...,  0.2124, -0.1852, -1.2593],\n",
       "           [ 0.2035, -0.0972, -0.1353,  ...,  0.3207,  0.0412, -0.0715]]],\n",
       "         device='cuda:0'),),\n",
       " (tensor([[[ 0.0550, -0.0947, -0.1188,  ..., -0.0282,  0.0590, -0.1285],\n",
       "           [-1.1777,  1.7872,  1.2895,  ...,  1.0356, -1.0970, -1.5506],\n",
       "           [-1.1434,  1.9551,  3.3284,  ...,  0.2859, -1.2262, -3.1821],\n",
       "           ...,\n",
       "           [ 0.3208, -0.2781,  0.1369,  ..., -0.1887, -0.1560, -0.1362],\n",
       "           [ 1.2243,  0.0752, -0.0615,  ..., -0.0487,  0.0524, -1.0483],\n",
       "           [-0.0500, -0.0463,  0.1014,  ...,  0.1225, -0.0706, -0.1452]]],\n",
       "         device='cuda:0'),),\n",
       " (tensor([[[ 0.3110,  0.0069,  0.3820,  ..., -0.1051, -0.2161, -0.0276],\n",
       "           [-2.0836,  1.8923, -1.8008,  ..., -0.3706, -0.1497,  0.9509],\n",
       "           [-0.9285, -0.2635, -1.4668,  ..., -1.1332,  2.6364, -2.0949],\n",
       "           ...,\n",
       "           [ 0.2515,  0.4376, -0.2790,  ..., -0.3811, -0.2375, -0.0526],\n",
       "           [-0.6712,  0.3102,  0.4102,  ...,  0.3697, -0.1340,  0.4315],\n",
       "           [ 0.0415,  0.0165,  0.0155,  ...,  0.0198, -0.0872, -0.0709]]],\n",
       "         device='cuda:0'),),\n",
       " (tensor([[[-0.5446,  0.2612, -0.6289,  ..., -0.0043,  0.1430,  0.0574],\n",
       "           [-1.3431, -0.2235, -1.6227,  ..., -0.3347,  1.7205, -1.9224],\n",
       "           [-0.5770,  2.4191, -0.7886,  ...,  0.5418,  1.5362, -0.6777],\n",
       "           ...,\n",
       "           [ 0.0255, -0.6617, -0.5063,  ...,  0.1875,  0.0427, -0.1570],\n",
       "           [ 0.8190, -0.0526, -0.4963,  ...,  0.2124, -0.1852, -1.2593],\n",
       "           [ 0.2035, -0.0972, -0.1353,  ...,  0.3207,  0.0412, -0.0715]]],\n",
       "         device='cuda:0'),),\n",
       " (tensor([[[ 3.3730e-03, -1.6052e-01, -1.7698e-01,  ...,  3.3925e-03,\n",
       "            -2.4864e-01,  1.6834e-01],\n",
       "           [-2.0277e+00,  9.3123e-01, -1.2983e+00,  ...,  7.5250e-02,\n",
       "            -8.1030e-01,  1.2657e+00],\n",
       "           [-5.5965e+00, -7.9991e-01, -1.4176e+00,  ..., -1.4663e+00,\n",
       "            -1.4010e+00, -4.8304e-01],\n",
       "           ...,\n",
       "           [-1.2924e-01, -3.8024e-01, -1.3855e-01,  ...,  6.3002e-02,\n",
       "             2.2607e-01,  6.2245e-02],\n",
       "           [-4.9533e-01,  8.9280e-02,  4.6589e-01,  ..., -1.4936e-01,\n",
       "             7.7844e-01, -1.2624e-01],\n",
       "           [-1.5571e-01, -1.1235e-02, -2.7528e-01,  ...,  3.6114e-01,\n",
       "            -2.9950e-01, -9.2018e-02]]], device='cuda:0'),),\n",
       " (tensor([[[ 0.1232, -0.0371,  0.1175,  ...,  0.0292,  0.0615, -0.0297],\n",
       "           [-2.5247,  0.2451,  0.1175,  ..., -2.7166, -2.4508,  0.0244],\n",
       "           [-1.8798, -0.5187, -1.2785,  ..., -4.6551, -0.6123, -1.4177],\n",
       "           ...,\n",
       "           [ 0.1437,  0.1646, -0.2045,  ..., -0.3061, -0.0471, -0.2228],\n",
       "           [ 0.0078,  0.9619, -0.4326,  ..., -0.4595,  0.2433,  0.1305],\n",
       "           [-0.1580, -0.0692, -0.1616,  ...,  0.0972, -0.1263, -0.1729]]],\n",
       "         device='cuda:0'),),\n",
       " (tensor([[[ 0.1258, -0.0784,  0.0339,  ..., -0.0930, -0.1948,  0.0534],\n",
       "           [ 1.4735, -0.3005, -1.6528,  ...,  0.7451,  2.8886, -1.6294],\n",
       "           [ 0.8913,  1.4764, -7.5355,  ..., -1.1202, -3.1562,  1.8648],\n",
       "           ...,\n",
       "           [-0.1410, -0.0142, -0.9216,  ...,  0.0221, -0.4092,  0.1444],\n",
       "           [-0.7651, -0.2403, -0.4285,  ...,  1.1596,  0.0777,  0.6329],\n",
       "           [-0.1721,  0.0473, -0.1942,  ...,  0.3116, -0.0553, -0.1776]]],\n",
       "         device='cuda:0'),),\n",
       " (tensor([[[-0.5446,  0.2612, -0.6289,  ..., -0.0043,  0.1430,  0.0574],\n",
       "           [-1.3431, -0.2235, -1.6227,  ..., -0.3347,  1.7205, -1.9224],\n",
       "           [-0.5770,  2.4191, -0.7886,  ...,  0.5418,  1.5362, -0.6777],\n",
       "           ...,\n",
       "           [ 0.0255, -0.6617, -0.5063,  ...,  0.1875,  0.0427, -0.1570],\n",
       "           [ 0.8190, -0.0526, -0.4963,  ...,  0.2124, -0.1852, -1.2593],\n",
       "           [ 0.2035, -0.0972, -0.1353,  ...,  0.3207,  0.0412, -0.0715]]],\n",
       "         device='cuda:0'),),\n",
       " (tensor([[[-0.1205,  0.2290, -0.1010,  ..., -0.5377, -0.3849, -0.1742],\n",
       "           [-0.7546, -1.3557, -0.6864,  ..., -0.5867,  2.3982,  0.7962],\n",
       "           [ 0.1945, -0.1065,  2.2940,  ..., -1.6857,  0.4783,  1.4075],\n",
       "           ...,\n",
       "           [ 0.0759, -0.0510, -0.2255,  ...,  0.0688, -0.2216,  0.0826],\n",
       "           [ 0.0396,  0.5470, -0.4271,  ...,  0.6345, -0.3667, -0.0954],\n",
       "           [ 0.0257, -0.0153, -0.1117,  ...,  0.0069,  0.0322, -0.0886]]],\n",
       "         device='cuda:0'),),\n",
       " (tensor([[[-0.1205,  0.2290, -0.1010,  ..., -0.5377, -0.3849, -0.1742],\n",
       "           [-0.7546, -1.3557, -0.6864,  ..., -0.5867,  2.3982,  0.7962],\n",
       "           [ 0.1945, -0.1065,  2.2940,  ..., -1.6857,  0.4783,  1.4075],\n",
       "           ...,\n",
       "           [ 0.0759, -0.0510, -0.2255,  ...,  0.0688, -0.2216,  0.0826],\n",
       "           [ 0.0396,  0.5470, -0.4271,  ...,  0.6345, -0.3667, -0.0954],\n",
       "           [ 0.0257, -0.0153, -0.1117,  ...,  0.0069,  0.0322, -0.0886]]],\n",
       "         device='cuda:0'),)]"
      ]
     },
     "execution_count": 42,
     "metadata": {},
     "output_type": "execute_result"
    }
   ],
   "source": [
    "without_capt(input_text, ground_truth)"
   ]
  },
  {
   "cell_type": "markdown",
   "metadata": {},
   "source": [
    "### Integrated Gradients"
   ]
  },
  {
   "cell_type": "code",
   "execution_count": 43,
   "metadata": {},
   "outputs": [],
   "source": [
    "ig = IntegratedGradients(nmt_forward_func)"
   ]
  },
  {
   "cell_type": "code",
   "execution_count": 44,
   "metadata": {},
   "outputs": [],
   "source": [
    "def interpret_sentence_1(src, trg):\n",
    "    \n",
    "    # get a list of src_tokens from the src sentence\n",
    "    input_ids, text_ids, ref_input_ids, sep_id = construct_input_ref_pair(input_text)\n",
    "    lang_type_ids, ref_lang_type_ids = construct_input_ref_lang_type_pair(input_ids)\n",
    "    position_ids, ref_position_ids = construct_input_ref_pos_id_pair(input_ids)\n",
    "    \n",
    "    langs = input_ids.reshape(-1,1).clone().fill_(src_id)\n",
    "    lengths = torch.tensor([input_ids.shape[1]]*input_ids.shape[0])\n",
    "    \n",
    "#     print(langs)\n",
    "    \n",
    "    # get a list of trg_tokens from the trg sentence\n",
    "    ground_truth_tokens = tokeniser([trg])\n",
    "    \n",
    "    langs2 = ground_truth_tokens.reshape(-1,1).clone().fill_(tgt_id)\n",
    "    lengths2 = torch.tensor([ground_truth_tokens.shape[1]]*ground_truth_tokens.shape[0])\n",
    "    \n",
    "    # pre-computing word embeddings\n",
    "    input_embed = interpretable_embedding1.indices_to_embeddings(input_ids)\n",
    "    ref_input_embed = interpretable_embedding1.indices_to_embeddings(ref_input_ids)\n",
    "    \n",
    "    src_embedding = input_embed # + position_ids_embed.expand_as(input_embed) + token_lang_ids_embed\n",
    "    \n",
    "#     get outputs tensor [seq_length, batch_size, trg_vocab_size]\n",
    "    outputs = predict(src_embedding, ground_truth_tokens, langs = langs, find_emb=False, ret_out=False)\n",
    "    \n",
    "#     # get output_tokens from outputs\n",
    "#     # compute attributions and approximation delta using integrated gradients\n",
    "    output_tokens = []\n",
    "    attribution_igs = [] # size: [len(output_tokens), len(src_tokens)]\n",
    "    for idx, output in enumerate(outputs):\n",
    "        max_idx = output.max(1).indices.item()\n",
    "        output_token = dico[max_idx]\n",
    "        output_tokens.append(output_token)\n",
    "        langs=langs.reshape(1,-1)\n",
    "        langs2=langs2.reshape(1,-1)\n",
    "        attribution_ig, delta =  ig.attribute(src_embedding, baselines=0, additional_forward_args=(ground_truth_tokens, langs2, lengths2, langs, idx, False), target=max_idx, n_steps=50, return_convergence_delta=True)\n",
    "        attribution_igs.append(attribution_ig)\n",
    "    \n",
    "    return attribution_igs, output_tokens"
   ]
  },
  {
   "cell_type": "code",
   "execution_count": 45,
   "metadata": {},
   "outputs": [],
   "source": [
    "attribution_igs, output_tokens = interpret_sentence_1(input_text, ground_truth)"
   ]
  },
  {
   "cell_type": "code",
   "execution_count": 46,
   "metadata": {},
   "outputs": [],
   "source": [
    "def draw_heatmap_for_inp(inp):\n",
    "    attrs_first=[]\n",
    "    outs_first=[]\n",
    "\n",
    "    for i in range(4):\n",
    "        attrs_first.append(summarize_attributions(attribution_igs[i][inp]).detach().cpu().numpy().tolist())\n",
    "        outs_first.append(output_tokens[i][inp])\n",
    "    fig, ax = plt.subplots(figsize=(15,4))\n",
    "    xticklabels=['<sos>']+input_text.split()+['<eos>']\n",
    "    yticklabels=list(range(1,5))\n",
    "    ax = sns.heatmap(np.array(attrs_first), xticklabels=xticklabels, yticklabels=yticklabels, linewidth=0.2)\n",
    "    plt.xlabel('Tokens')\n",
    "    plt.ylabel('Layers')\n",
    "    plt.title(output_tokens[0][inp])\n",
    "    plt.show()"
   ]
  },
  {
   "cell_type": "code",
   "execution_count": 47,
   "metadata": {},
   "outputs": [
    {
     "data": {
      "text/plain": [
       "torch.Size([1, 13, 512])"
      ]
     },
     "execution_count": 47,
     "metadata": {},
     "output_type": "execute_result"
    }
   ],
   "source": [
    "attribution_igs[0].shape"
   ]
  },
  {
   "cell_type": "code",
   "execution_count": 48,
   "metadata": {},
   "outputs": [],
   "source": [
    "import matplotlib\n",
    "import matplotlib.pyplot as plt\n",
    "import numpy\n",
    "\n",
    "def plot_attributions(attribution_igs, src, output_tokens):\n",
    "    # This is an example of how we can visualize attributions.\n",
    "    # We plot an attribution-based alignments between every output token and every input token.\n",
    "    \n",
    "    # get a list of src_tokens from the src sentence\n",
    "    src_tokens = ['<sos>'] + src.split(' ') + ['<eos>']\n",
    "    \n",
    "    # For each output token, we aggregate and normalize attribution of each input token.\n",
    "    normalized_attribution_igs = [] #size [len(output_tokens), len(src_tokens)]\n",
    "    end_idx = len(output_tokens) - 1\n",
    "    for idx, attribution_ig in enumerate(attribution_igs):\n",
    "        # Disregard the token <eos> token at the end of the output_tokens.\n",
    "        if output_tokens[idx] == params.eos_index and idx>0:\n",
    "            end_idx = idx\n",
    "            break\n",
    "            \n",
    "        attribution_ig = attribution_ig.sum(dim=2).squeeze(0)\n",
    "        attribution_ig /= torch.norm(attribution_ig)\n",
    "        attribution_ig = attribution_ig.detach().cpu().detach().numpy()\n",
    "        normalized_attribution_igs.append(attribution_ig)\n",
    "    \n",
    "    normalized_attribution_igs = numpy.array(normalized_attribution_igs)\n",
    "    \n",
    "    return normalized_attribution_igs"
   ]
  },
  {
   "cell_type": "code",
   "execution_count": 49,
   "metadata": {
    "scrolled": true
   },
   "outputs": [],
   "source": [
    "attrs_first = plot_attributions(attribution_igs, input_text, output_tokens)"
   ]
  },
  {
   "cell_type": "code",
   "execution_count": 50,
   "metadata": {},
   "outputs": [
    {
     "data": {
      "image/png": "[encoded data removed]",
      "text/plain": [
       "<Figure size 1080x720 with 2 Axes>"
      ]
     },
     "metadata": {
      "needs_background": "light"
     },
     "output_type": "display_data"
    }
   ],
   "source": [
    "fig, ax = plt.subplots(figsize=(15,10))\n",
    "xticklabels=['<sos>']+input_text.split()+['<eos>']\n",
    "yticklabels=output_tokens\n",
    "ax = sns.heatmap(np.array(attrs_first), xticklabels=xticklabels, yticklabels=yticklabels, linewidth=0.2)\n",
    "plt.xlabel('Input Sequence')\n",
    "plt.ylabel('Output Sequence')\n",
    "plt.show()"
   ]
  },
  {
   "cell_type": "code",
   "execution_count": 51,
   "metadata": {},
   "outputs": [],
   "source": [
    "def plot_heatmap(data, x_labels, y_labels):\n",
    "    \n",
    "    ax = plt.gca()\n",
    "    \n",
    "    # Plot the heatmap\n",
    "    im = ax.imshow(data, cmap='RdBu', interpolation='nearest', aspect='auto')\n",
    "    \n",
    "    # Create colorbar\n",
    "    cbar = ax.figure.colorbar(im, ax=ax)\n",
    "    cbar.ax.set_ylabel(\"attributions\", rotation=-90, va=\"bottom\")\n",
    "    \n",
    "    # how all ticks and label them with the respective list entries\n",
    "    ax.set_xticks(np.arange(data.shape[1]))\n",
    "    ax.set_yticks(np.arange(data.shape[0]))\n",
    "    print(x_labels)\n",
    "    ax.set_xticklabels(x_labels)\n",
    "    print(y_labels)\n",
    "    ax.set_yticklabels(y_labels)\n",
    "    ax.set_xlabel('Output Sequence')\n",
    "    ax.set_ylabel('Input Sequence')\n",
    "    \n",
    "    # Turn spines off and create white grid\n",
    "    for edge, spine in ax.spines.items():\n",
    "        spine.set_visible(False)\n",
    "    \n",
    "    ax.set_xticks(np.arange(data.shape[1]+1)-.5, minor=True)\n",
    "    ax.set_yticks(np.arange(data.shape[0]+1)-.5, minor=True)\n",
    "    ax.grid(which=\"minor\", color=\"w\", linestyle='-', linewidth=3)\n",
    "    ax.tick_params(which=\"minor\", bottom=False, left=False)\n",
    "    \n",
    "    # Set alignment to center\n",
    "    kw = dict(horizontalalignment=\"center\",\n",
    "              verticalalignment=\"center\")\n",
    "    kw.update()\n",
    "    \n",
    "    # Get the formatter in case a string is supplied\n",
    "    valfmt = \"{x:.1f}\"\n",
    "    if isinstance(valfmt, str):\n",
    "        valfmt = matplotlib.ticker.StrMethodFormatter(valfmt)\n",
    "    \n",
    "    # Loop over the data and assign the probablity for each output-input token alignment pair.\n",
    "    # Change the color of probability depending on the value.\n",
    "    textcolors =[\"black\", \"white\"]\n",
    "    threshold = im.norm(data.max())/2.\n",
    "    texts = []\n",
    "    for i in range(data.shape[0]):\n",
    "        for j in range(data.shape[1]):\n",
    "            if data[i, j] == \"nan\":\n",
    "                continue\n",
    "            kw.update(color=textcolors[int(im.norm(data[i, j]) > threshold)])\n",
    "            text = im.axes.text(j, i, valfmt(data[i, j], None), **kw)\n",
    "            texts.append(text)"
   ]
  },
  {
   "cell_type": "code",
   "execution_count": 52,
   "metadata": {},
   "outputs": [
    {
     "name": "stdout",
     "output_type": "stream",
     "text": [
      "['under', 'seal', 'of', 'Gududu', 'the', 'workdays', 'at', 'the', 'lower', 'of', 'Udu', 'make', 'workdays', 'at', 'the', 'reservoir', 'of', 'the', 'Ebabbar', 'wall', 'and', 'the', '</s>', '</s>']\n",
      "['kiszib3', 'gu-du-du', '1(gesz2)', '1(u)', 'la2', '1(disz)', 'geme2', 'u4', '1(disz)-sze3', 'kab2-ku5', 'u2-du-...']\n"
     ]
    },
    {
     "data": {
      "image/png": "[encoded data removed]",
      "text/plain": [
       "<Figure size 432x288 with 2 Axes>"
      ]
     },
     "metadata": {
      "needs_background": "light"
     },
     "output_type": "display_data"
    }
   ],
   "source": [
    "plot_heatmap(attrs_first[:].transpose(), output_tokens, input_text.split(' '))"
   ]
  },
  {
   "cell_type": "markdown",
   "metadata": {},
   "source": [
    "### Saliency"
   ]
  },
  {
   "cell_type": "code",
   "execution_count": 53,
   "metadata": {},
   "outputs": [],
   "source": [
    "saliency = Saliency(nmt_forward_func)"
   ]
  },
  {
   "cell_type": "code",
   "execution_count": 54,
   "metadata": {},
   "outputs": [],
   "source": [
    "def interpret_sentence_saliency(src, trg):\n",
    "    \n",
    "    # get a list of src_tokens from the src sentence\n",
    "    input_ids, text_ids, ref_input_ids, sep_id = construct_input_ref_pair(input_text)\n",
    "    lang_type_ids, ref_lang_type_ids = construct_input_ref_lang_type_pair(input_ids)\n",
    "    position_ids, ref_position_ids = construct_input_ref_pos_id_pair(input_ids)\n",
    "    \n",
    "    langs = input_ids.reshape(-1,1).clone().fill_(src_id)\n",
    "    lengths = torch.tensor([input_ids.shape[1]]*input_ids.shape[0])\n",
    "    \n",
    "    # get a list of trg_tokens from the trg sentence\n",
    "    ground_truth_tokens = tokeniser([trg])\n",
    "    \n",
    "    langs2 = ground_truth_tokens.reshape(-1,1).clone().fill_(tgt_id)\n",
    "    lengths2 = torch.tensor([ground_truth_tokens.shape[1]]*ground_truth_tokens.shape[0])\n",
    "    \n",
    "    # pre-computing word embeddings\n",
    "    input_embed = interpretable_embedding1.indices_to_embeddings(input_ids)\n",
    "    ref_input_embed = interpretable_embedding1.indices_to_embeddings(ref_input_ids)\n",
    "    \n",
    "    src_embedding = input_embed # + position_ids_embed.expand_as(input_embed) + token_lang_ids_embed\n",
    "    \n",
    "    # get outputs tensor [seq_length, batch_size, trg_vocab_size]\n",
    "    outputs = predict(src_embedding, ground_truth_tokens, langs = langs, find_emb=False, ret_out=False)\n",
    "    \n",
    "    # get output_tokens from outputs\n",
    "    # compute attributions and approximation delta using integrated gradients\n",
    "    output_tokens = []\n",
    "    attribution_igs = [] # size: [len(output_tokens), len(src_tokens)]\n",
    "    for idx, output in enumerate(outputs):\n",
    "        print(idx)\n",
    "        max_idx = output.max(1).indices.item()\n",
    "        output_token = dico[max_idx]\n",
    "        output_tokens.append(output_token)\n",
    "        langs=langs.reshape(1,-1)\n",
    "        langs2=langs2.reshape(1,-1)\n",
    "        attribution_ig =  saliency.attribute(src_embedding, additional_forward_args=(ground_truth_tokens, langs2, lengths2, langs, idx, False), target=max_idx)\n",
    "        attribution_igs.append(attribution_ig)\n",
    "    \n",
    "    return attribution_igs, output_tokens"
   ]
  },
  {
   "cell_type": "code",
   "execution_count": 55,
   "metadata": {},
   "outputs": [
    {
     "name": "stdout",
     "output_type": "stream",
     "text": [
      "0\n",
      "1\n",
      "2\n",
      "3\n",
      "4\n",
      "5\n",
      "6\n",
      "7\n",
      "8\n",
      "9\n",
      "10\n",
      "11\n",
      "12\n",
      "13\n",
      "14\n",
      "15\n",
      "16\n",
      "17\n",
      "18\n",
      "19\n",
      "20\n",
      "21\n",
      "22\n",
      "23\n"
     ]
    }
   ],
   "source": [
    "attribution_igs_sal, output_tokens_sal = interpret_sentence_saliency(input_text, ground_truth)"
   ]
  },
  {
   "cell_type": "code",
   "execution_count": 56,
   "metadata": {},
   "outputs": [],
   "source": [
    "attrs_sal = plot_attributions(attribution_igs_sal, input_text, output_tokens_sal)"
   ]
  },
  {
   "cell_type": "code",
   "execution_count": 57,
   "metadata": {},
   "outputs": [
    {
     "data": {
      "image/png": "[encoded data removed]",
      "text/plain": [
       "<Figure size 1080x720 with 2 Axes>"
      ]
     },
     "metadata": {
      "needs_background": "light"
     },
     "output_type": "display_data"
    }
   ],
   "source": [
    "fig, ax = plt.subplots(figsize=(15,10))\n",
    "# xticklabels=list(tokeniser([ground_truth]).numpy()[0])\n",
    "xticklabels=['<sos>']+input_text.split()+['<eos>']\n",
    "yticklabels=output_tokens\n",
    "ax = sns.heatmap(np.array(attrs_sal), xticklabels=xticklabels, yticklabels=yticklabels, linewidth=0.2)\n",
    "plt.xlabel('Input Sequence')\n",
    "plt.ylabel('Output Sequence')\n",
    "plt.show()"
   ]
  },
  {
   "cell_type": "markdown",
   "metadata": {},
   "source": [
    "### All Embeddings"
   ]
  },
  {
   "cell_type": "code",
   "execution_count": 58,
   "metadata": {},
   "outputs": [],
   "source": [
    "interpretable_embedding3 = configure_interpretable_embedding_layer(encoder, 'position_embeddings')\n",
    "interpretable_embedding2 = configure_interpretable_embedding_layer(encoder, 'lang_embeddings')"
   ]
  },
  {
   "cell_type": "code",
   "execution_count": 59,
   "metadata": {},
   "outputs": [],
   "source": [
    "ig = IntegratedGradients(nmt_forward_func)"
   ]
  },
  {
   "cell_type": "code",
   "execution_count": 60,
   "metadata": {},
   "outputs": [],
   "source": [
    "def interpret_sentence(src, trg):\n",
    "    \n",
    "    # get a list of src_tokens from the src sentence\n",
    "    input_ids, text_ids, ref_input_ids, sep_id = construct_input_ref_pair(input_text)\n",
    "    lang_type_ids, ref_lang_type_ids = construct_input_ref_lang_type_pair(input_ids)\n",
    "    position_ids, ref_position_ids = construct_input_ref_pos_id_pair(input_ids)\n",
    "    \n",
    "    langs = input_ids.reshape(-1,1).clone().fill_(src_id)\n",
    "    lengths = torch.tensor([input_ids.shape[1]]*input_ids.shape[0])\n",
    "    \n",
    "    # get a list of trg_tokens from the trg sentence\n",
    "    ground_truth_tokens = tokeniser([trg])\n",
    "    \n",
    "    langs2 = ground_truth_tokens.reshape(-1,1).clone().fill_(tgt_id)\n",
    "    lengths2 = torch.tensor([ground_truth_tokens.shape[1]]*ground_truth_tokens.shape[0])\n",
    "    \n",
    "    # pre-computing word embeddings\n",
    "    (input_embed, ref_input_embed), (token_lang_ids_embed, ref_lang_type_ids_embed), (position_ids_embed, ref_position_ids_embed) = construct_sub_embedding(input_ids, ref_input_ids, \\\n",
    "                                         token_lang_ids=lang_type_ids, ref_token_lang_ids=ref_lang_type_ids, \\\n",
    "                                         position_ids=position_ids, ref_position_ids=ref_position_ids)\n",
    "    \n",
    "#     get outputs tensor [seq_length, batch_size, trg_vocab_size]\n",
    "    outputs = predict(input_embed, ground_truth_tokens, langs2, lengths2, token_lang_ids_embed, position_ids_embed, find_emb=False, all_embs=True, ret_out=False)\n",
    "    \n",
    "#     # get output_tokens from outputs\n",
    "#     # compute attributions and approximation delta using integrated gradients\n",
    "    output_tokens = []\n",
    "    attribution_igs = [] # size: [len(output_tokens), len(src_tokens)]\n",
    "    for idx, output in enumerate(outputs):\n",
    "        print(idx)\n",
    "        max_idx = output.max(1).indices.item()\n",
    "        output_token = dico[max_idx]\n",
    "        output_tokens.append(output_token)\n",
    "        langs = langs.reshape(1,-1)\n",
    "        langs2 = langs2.reshape(1,-1)\n",
    "        attribution_ig, delta =  ig.attribute(input_embed, baselines=0, additional_forward_args=(ground_truth_tokens, langs2, lengths2, token_lang_ids_embed, idx, False, True, position_ids_embed), target=max_idx, n_steps=50, return_convergence_delta=True)\n",
    "        attribution_igs.append(attribution_ig)\n",
    "    \n",
    "    return attribution_igs, output_tokens"
   ]
  },
  {
   "cell_type": "code",
   "execution_count": 61,
   "metadata": {
    "scrolled": true
   },
   "outputs": [
    {
     "name": "stdout",
     "output_type": "stream",
     "text": [
      "0\n",
      "1\n",
      "2\n",
      "3\n",
      "4\n",
      "5\n",
      "6\n",
      "7\n",
      "8\n",
      "9\n",
      "10\n",
      "11\n",
      "12\n",
      "13\n",
      "14\n",
      "15\n",
      "16\n",
      "17\n",
      "18\n",
      "19\n",
      "20\n",
      "21\n",
      "22\n",
      "23\n"
     ]
    }
   ],
   "source": [
    "attribution_igs_all, output_tokens_all = interpret_sentence(input_text, ground_truth)"
   ]
  },
  {
   "cell_type": "code",
   "execution_count": 62,
   "metadata": {},
   "outputs": [],
   "source": [
    "attrs_all = plot_attributions(attribution_igs_all, input_text, output_tokens_all)"
   ]
  },
  {
   "cell_type": "code",
   "execution_count": 63,
   "metadata": {},
   "outputs": [
    {
     "data": {
      "image/png": "[encoded data removed]",
      "text/plain": [
       "<Figure size 1080x720 with 2 Axes>"
      ]
     },
     "metadata": {
      "needs_background": "light"
     },
     "output_type": "display_data"
    }
   ],
   "source": [
    "fig, ax = plt.subplots(figsize=(15,10))\n",
    "# xticklabels=list(tokeniser([ground_truth]).numpy()[0])\n",
    "xticklabels=['<sos>']+input_text.split()+['<eos>']\n",
    "yticklabels=output_tokens\n",
    "ax = sns.heatmap(np.array(attrs_all), xticklabels=xticklabels, yticklabels=yticklabels, linewidth=0.2)\n",
    "plt.xlabel('Input Sequence')\n",
    "plt.ylabel('Output Sequence')\n",
    "plt.show()"
   ]
  },
  {
   "cell_type": "code",
   "execution_count": null,
   "metadata": {},
   "outputs": [],
   "source": []
  },
  {
   "cell_type": "code",
   "execution_count": 65,
   "metadata": {},
   "outputs": [],
   "source": [
    "# storing couple samples in an array for visualization purposes\n",
    "start_position_vis = viz.VisualizationDataRecord(\n",
    "                        attributions_start_sum,\n",
    "                        torch.max(torch.softmax(start_scores[0], dim=0)),\n",
    "                        torch.argmax(start_scores),\n",
    "                        torch.argmax(start_scores),\n",
    "                        str(ground_truth_start_ind),\n",
    "                        attributions_start_sum.sum(),       \n",
    "                        all_tokens,\n",
    "                        delta_start)\n",
    "\n",
    "end_position_vis = viz.VisualizationDataRecord(\n",
    "                        attributions_end_sum,\n",
    "                        torch.max(torch.softmax(end_scores[0], dim=0)),\n",
    "                        torch.argmax(end_scores),\n",
    "                        torch.argmax(end_scores),\n",
    "                        str(ground_truth_end_ind),\n",
    "                        attributions_end_sum.sum(),       \n",
    "                        all_tokens,\n",
    "                        delta_end)\n",
    "\n",
    "print('\\033[1m', 'Visualizations For Start Position', '\\033[0m')\n",
    "viz.visualize_text([start_position_vis])\n",
    "\n",
    "print('\\033[1m', 'Visualizations For End Position', '\\033[0m')\n",
    "viz.visualize_text([end_position_vis])"
   ]
  },
  {
   "cell_type": "code",
   "execution_count": null,
   "metadata": {},
   "outputs": [],
   "source": []
  },
  {
   "cell_type": "code",
   "execution_count": null,
   "metadata": {},
   "outputs": [],
   "source": [
    "interpretable_embedding1 = configure_interpretable_embedding_layer(encoder, 'embeddings')\n",
    "interpretable_embedding2 = configure_interpretable_embedding_layer(encoder, 'lang_embeddings')\n",
    "interpretable_embedding3 = configure_interpretable_embedding_layer(encoder, 'position_embeddings')"
   ]
  },
  {
   "cell_type": "code",
   "execution_count": null,
   "metadata": {},
   "outputs": [],
   "source": [
    "(input_embed, ref_input_embed), (token_type_ids_embed, ref_token_type_ids_embed), (position_ids_embed, ref_position_ids_embed) = construct_bert_sub_embedding(input_ids, ref_input_ids, \\\n",
    "                                         token_type_ids=token_type_ids, ref_token_type_ids=ref_token_type_ids, \\\n",
    "                                         position_ids=position_ids, ref_position_ids=ref_position_ids)"
   ]
  },
  {
   "cell_type": "code",
   "execution_count": null,
   "metadata": {},
   "outputs": [],
   "source": []
  }
 ],
 "metadata": {
  "kernelspec": {
   "display_name": "Python 3",
   "language": "python",
   "name": "python3"
  },
  "language_info": {
   "codemirror_mode": {
    "name": "ipython",
    "version": 3
   },
   "file_extension": ".py",
   "mimetype": "text/x-python",
   "name": "python",
   "nbconvert_exporter": "python",
   "pygments_lexer": "ipython3",
   "version": "3.7.4"
  }
 },
 "nbformat": 4,
 "nbformat_minor": 2
}
